{
 "cells": [
  {
   "cell_type": "code",
   "execution_count": 1,
   "metadata": {
    "scrolled": true
   },
   "outputs": [
    {
     "name": "stdout",
     "output_type": "stream",
     "text": [
      "강한친구 대한육군 \n",
      "강한친구 대한육군\n"
     ]
    }
   ],
   "source": [
    "#10718\n",
    "print(\"강한친구 대한육군 \\n강한친구 대한육군\")"
   ]
  },
  {
   "cell_type": "code",
   "execution_count": 2,
   "metadata": {},
   "outputs": [
    {
     "name": "stdout",
     "output_type": "stream",
     "text": [
      "joonas\n",
      "joonas??!\n"
     ]
    }
   ],
   "source": [
    "#10926\n",
    "input_string = input()             \n",
    "print(input_string+\"??!\") \n"
   ]
  },
  {
   "cell_type": "code",
   "execution_count": 3,
   "metadata": {},
   "outputs": [
    {
     "name": "stdout",
     "output_type": "stream",
     "text": [
      "2018\n",
      "1475\n"
     ]
    }
   ],
   "source": [
    "#18108\n",
    "input_year = int(input())\n",
    "print(input_year - 543)"
   ]
  },
  {
   "cell_type": "code",
   "execution_count": 5,
   "metadata": {},
   "outputs": [
    {
     "name": "stdout",
     "output_type": "stream",
     "text": [
      "0 40\n",
      "23 55\n"
     ]
    }
   ],
   "source": [
    "#2884\n",
    "input_h, input_m = input().split(\" \")\n",
    "minute = int(input_h)*60 + int(input_m) - 45\n",
    "output_h = minute//60\n",
    "output_m = minute%60\n",
    "if output_h<0:\n",
    "    output_h=23\n",
    "print(output_h, output_m)\n"
   ]
  },
  {
   "cell_type": "code",
   "execution_count": 15,
   "metadata": {},
   "outputs": [
    {
     "name": "stdout",
     "output_type": "stream",
     "text": [
      "5\n",
      "    *\n",
      "   **\n",
      "  ***\n",
      " ****\n",
      "*****\n"
     ]
    }
   ],
   "source": [
    "#2439\n",
    "i=0\n",
    "input_num = int(input())\n",
    "for x in range(0,input_num):\n",
    "    print(\" \"*(input_num-x-1)+\"*\"*(x+1))\n",
    "    i+=1"
   ]
  },
  {
   "cell_type": "code",
   "execution_count": 53,
   "metadata": {},
   "outputs": [
    {
     "name": "stdout",
     "output_type": "stream",
     "text": [
      "10 5\n",
      "1 10 4 9 2 3 8 5 7 6\n",
      "1 4 2 3 \n"
     ]
    }
   ],
   "source": [
    "#10871\n",
    "n, x = input().split(\" \")\n",
    "nlist = input().split(\" \")\n",
    "a=\"\"\n",
    "for i in range(0, int(n)):\n",
    "    if int(nlist[i]) < int(x):\n",
    "        a = a+ nlist[i] +\" \"\n",
    "print(a)"
   ]
  },
  {
   "cell_type": "code",
   "execution_count": 66,
   "metadata": {
    "scrolled": true
   },
   "outputs": [
    {
     "name": "stdout",
     "output_type": "stream",
     "text": [
      "1 1\n",
      "2\n",
      "2 3\n",
      "5\n",
      "3 4\n",
      "7\n",
      "9 8\n",
      "17\n",
      "5 2\n",
      "7\n",
      "0 0\n"
     ]
    }
   ],
   "source": [
    "#10952\n",
    "while True:\n",
    "    a, b = map(int, input().split())\n",
    "    if a==0 and b==0:\n",
    "        break\n",
    "    else:\n",
    "        print(a+b)"
   ]
  },
  {
   "cell_type": "code",
   "execution_count": 67,
   "metadata": {},
   "outputs": [
    {
     "name": "stdout",
     "output_type": "stream",
     "text": [
      "1 1\n",
      "2\n",
      "2 3\n",
      "5\n",
      "3 4\n",
      "7\n",
      "9 8\n",
      "17\n",
      "5 2\n",
      "7\n",
      "\n"
     ]
    }
   ],
   "source": [
    "#10951\n",
    "while True:\n",
    "    try:\n",
    "        a, b = map(int, input().split())\n",
    "        if a==0 and b==0:\n",
    "            break\n",
    "        else:\n",
    "            print(a+b)\n",
    "    except:\n",
    "        break\n",
    "        "
   ]
  },
  {
   "cell_type": "code",
   "execution_count": 87,
   "metadata": {},
   "outputs": [
    {
     "name": "stdout",
     "output_type": "stream",
     "text": [
      "1\n",
      "60\n"
     ]
    }
   ],
   "source": [
    "#1110\n",
    "i=0\n",
    "origin_n=input()\n",
    "n = origin_n\n",
    "while True:\n",
    "    if len(n)==1:\n",
    "        n = \"0\"+ n\n",
    "    a,b = [i for i in n]\n",
    "    c = int(a) + int(b)\n",
    "    if len(str(c))==1:\n",
    "        c = \"0\"+ str(c)\n",
    "    d, e = [i for i in str(c)]\n",
    "    n = b+e\n",
    "    i+=1\n",
    "    if int(n)==int(origin_n):\n",
    "        break\n",
    "print(i)        "
   ]
  },
  {
   "cell_type": "code",
   "execution_count": 2,
   "metadata": {},
   "outputs": [
    {
     "name": "stdout",
     "output_type": "stream",
     "text": [
      "5\n",
      "20 10 35 30 7\n",
      "7 35\n"
     ]
    }
   ],
   "source": [
    "#10818\n",
    "n = int(input())\n",
    "nlist = [int(i) for i in input().split(\" \")]\n",
    "print(min(nlist), max(nlist))"
   ]
  },
  {
   "cell_type": "code",
   "execution_count": 3,
   "metadata": {},
   "outputs": [
    {
     "name": "stdout",
     "output_type": "stream",
     "text": [
      "5\n",
      "20 10 35 30 7\n",
      "7 35\n"
     ]
    }
   ],
   "source": [
    "#10818\n",
    "n = int(input())\n",
    "nlist = list(map(int, input().split()))\n",
    "print(min(nlist), max(nlist))"
   ]
  },
  {
   "cell_type": "code",
   "execution_count": 10,
   "metadata": {},
   "outputs": [
    {
     "name": "stdout",
     "output_type": "stream",
     "text": [
      "3\n",
      "29\n",
      "38\n",
      "12\n",
      "57\n",
      "74\n",
      "40\n",
      "85\n",
      "61\n",
      "85\n",
      "8\n"
     ]
    }
   ],
   "source": [
    "#2562\n",
    "nlist=list()\n",
    "for i in range(0,9):\n",
    "    nlist.append(int(input()))\n",
    "print(max(nlist))\n",
    "print(nlist.index(max(nlist))+1)\n",
    "    "
   ]
  },
  {
   "cell_type": "code",
   "execution_count": 14,
   "metadata": {
    "scrolled": true
   },
   "outputs": [
    {
     "name": "stdout",
     "output_type": "stream",
     "text": [
      "150\n",
      "266\n",
      "427\n",
      "3\n",
      "1\n",
      "0\n",
      "2\n",
      "0\n",
      "0\n",
      "0\n",
      "2\n",
      "0\n",
      "0\n"
     ]
    }
   ],
   "source": [
    "#2577\n",
    "#by using count(), we can count strings\n",
    "n1 = int(input())\n",
    "n2 = int(input())\n",
    "n3 = int(input())\n",
    "result = str(n1*n2*n3)\n",
    "for i in range(0,10):\n",
    "    print(result.count(str(i)))"
   ]
  },
  {
   "cell_type": "code",
   "execution_count": 16,
   "metadata": {},
   "outputs": [
    {
     "name": "stdout",
     "output_type": "stream",
     "text": [
      "1\n",
      "2\n",
      "3\n",
      "4\n",
      "5\n",
      "6\n",
      "7\n",
      "8\n",
      "9\n",
      "10\n",
      "10\n"
     ]
    }
   ],
   "source": [
    "#3052\n",
    "#by using set(), we can delete duplicated numbers\n",
    "nlist=list()\n",
    "for i in range(0,10):\n",
    "    nlist.append(int(input()))\n",
    "nlist_divided = [i%42 for i in nlist]\n",
    "print(len(set(nlist_divided)))\n"
   ]
  },
  {
   "cell_type": "code",
   "execution_count": 7,
   "metadata": {},
   "outputs": [
    {
     "name": "stdout",
     "output_type": "stream",
     "text": [
      "3\n",
      "40 60 80\n",
      "75.0\n"
     ]
    }
   ],
   "source": [
    "#1546\n",
    "def aver(lst):\n",
    "    return sum(lst)/len(lst)\n",
    "\n",
    "subnum = input()\n",
    "scor_list = list(map(int, input().split()))\n",
    "new_scor = [i/max(scor_list)*100 for i in scor_list]\n",
    "print(aver(new_scor))"
   ]
  },
  {
   "cell_type": "code",
   "execution_count": null,
   "metadata": {},
   "outputs": [],
   "source": [
    "#8958\n",
    "def rsum(n):\n",
    "    if n==1:\n",
    "        return 1\n",
    "    else:\n",
    "        return n + rsum(n-1)\n",
    "\n",
    "def score(str):\n",
    "    for i in str:\n",
    "        \n",
    "\n",
    "num = int(input())\n",
    "test_list = []\n",
    "\n",
    "for i in range(0,num):\n",
    "    test_list.append(input())\n",
    "\n",
    "all_olist = []\n",
    "for line in test_list:\n",
    "    olist = []\n",
    "    while len(line)>0:\n",
    "        a = line.find(\"O\")\n",
    "        b = line.find(\"X\",1)\n",
    "        olist.append(line[a,b-1])\n",
    "        line = line[b+1,]\n"
   ]
  },
  {
   "cell_type": "code",
   "execution_count": null,
   "metadata": {},
   "outputs": [],
   "source": []
  }
 ],
 "metadata": {
  "kernelspec": {
   "display_name": "Python 3",
   "language": "python",
   "name": "python3"
  },
  "language_info": {
   "codemirror_mode": {
    "name": "ipython",
    "version": 3
   },
   "file_extension": ".py",
   "mimetype": "text/x-python",
   "name": "python",
   "nbconvert_exporter": "python",
   "pygments_lexer": "ipython3",
   "version": "3.7.1"
  }
 },
 "nbformat": 4,
 "nbformat_minor": 2
}
