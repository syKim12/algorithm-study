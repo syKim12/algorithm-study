{
 "cells": [
  {
   "cell_type": "code",
   "execution_count": 1,
   "metadata": {
    "scrolled": true
   },
   "outputs": [
    {
     "name": "stdout",
     "output_type": "stream",
     "text": [
      "강한친구 대한육군 \n",
      "강한친구 대한육군\n"
     ]
    }
   ],
   "source": [
    "#10718\n",
    "print(\"강한친구 대한육군 \\n강한친구 대한육군\")"
   ]
  },
  {
   "cell_type": "code",
   "execution_count": 2,
   "metadata": {},
   "outputs": [
    {
     "name": "stdout",
     "output_type": "stream",
     "text": [
      "joonas\n",
      "joonas??!\n"
     ]
    }
   ],
   "source": [
    "#10926\n",
    "input_string = input()             \n",
    "print(input_string+\"??!\") \n"
   ]
  },
  {
   "cell_type": "code",
   "execution_count": 3,
   "metadata": {},
   "outputs": [
    {
     "name": "stdout",
     "output_type": "stream",
     "text": [
      "2018\n",
      "1475\n"
     ]
    }
   ],
   "source": [
    "#18108\n",
    "input_year = int(input())\n",
    "print(input_year - 543)"
   ]
  },
  {
   "cell_type": "code",
   "execution_count": 5,
   "metadata": {},
   "outputs": [
    {
     "name": "stdout",
     "output_type": "stream",
     "text": [
      "0 40\n",
      "23 55\n"
     ]
    }
   ],
   "source": [
    "#2884\n",
    "input_h, input_m = input().split(\" \")\n",
    "minute = int(input_h)*60 + int(input_m) - 45\n",
    "output_h = minute//60\n",
    "output_m = minute%60\n",
    "if output_h<0:\n",
    "    output_h=23\n",
    "print(output_h, output_m)\n"
   ]
  },
  {
   "cell_type": "code",
   "execution_count": 15,
   "metadata": {},
   "outputs": [
    {
     "name": "stdout",
     "output_type": "stream",
     "text": [
      "5\n",
      "    *\n",
      "   **\n",
      "  ***\n",
      " ****\n",
      "*****\n"
     ]
    }
   ],
   "source": [
    "#2439\n",
    "i=0\n",
    "input_num = int(input())\n",
    "for x in range(0,input_num):\n",
    "    print(\" \"*(input_num-x-1)+\"*\"*(x+1))\n",
    "    i+=1"
   ]
  },
  {
   "cell_type": "code",
   "execution_count": 23,
   "metadata": {},
   "outputs": [
    {
     "name": "stdout",
     "output_type": "stream",
     "text": [
      "10 5\n",
      "1 10 4 9 2 3 8 5 7 6\n",
      "1 4 2 3 \n"
     ]
    }
   ],
   "source": [
    "#10871\n",
    "n, x = input().split(\" \")\n",
    "nlist = input().split(\" \")\n",
    "a=\"\"\n",
    "for i in range(0, int(n)):\n",
    "    if int(nlist[i]) < int(x):\n",
    "        a = a+ nlist[i] +\" \"\n",
    "print(a)"
   ]
  },
  {
   "cell_type": "code",
   "execution_count": null,
   "metadata": {},
   "outputs": [],
   "source": []
  }
 ],
 "metadata": {
  "kernelspec": {
   "display_name": "Python 3",
   "language": "python",
   "name": "python3"
  },
  "language_info": {
   "codemirror_mode": {
    "name": "ipython",
    "version": 3
   },
   "file_extension": ".py",
   "mimetype": "text/x-python",
   "name": "python",
   "nbconvert_exporter": "python",
   "pygments_lexer": "ipython3",
   "version": "3.7.1"
  }
 },
 "nbformat": 4,
 "nbformat_minor": 2
}
