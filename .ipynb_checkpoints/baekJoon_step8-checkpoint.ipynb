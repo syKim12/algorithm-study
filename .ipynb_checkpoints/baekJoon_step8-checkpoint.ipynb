{
 "cells": [
  {
   "cell_type": "code",
   "execution_count": null,
   "metadata": {},
   "outputs": [],
   "source": [
    "#1712\n",
    "a, b, c = list(map(int, input().split()))\n",
    "if c>b: \n",
    "    x = a/(c-b) #a + b*x < c*x, a/(c-b) < x\n",
    "    print(int(x)+1)\n",
    "else:#c가 b보다 작거나 같은 경우 손익분기점이 안 나옴\n",
    "    print(-1)"
   ]
  },
  {
   "cell_type": "code",
   "execution_count": null,
   "metadata": {},
   "outputs": [],
   "source": [
    "#2292\n",
    "a = int(input())\n",
    "\n",
    "num_bee = 1\n",
    "cnt = 1\n",
    "while a > num_bee:\n",
    "    num_bee += 6 * cnt\n",
    "    cnt += 1\n",
    "print(cnt)\n"
   ]
  },
  {
   "cell_type": "code",
   "execution_count": null,
   "metadata": {},
   "outputs": [],
   "source": [
    "#1193\n",
    "X=int(input())\n",
    "\n",
    "line=1\n",
    "while X>line:\n",
    "    X-=line\n",
    "    line+=1\n",
    "    \n",
    "if line%2==0:\n",
    "    a=X\n",
    "    b=line-X+1\n",
    "else:\n",
    "    a=line-X+1\n",
    "    b=X\n",
    "    \n",
    "print(a, '/', b, sep='')"
   ]
  },
  {
   "cell_type": "code",
   "execution_count": null,
   "metadata": {},
   "outputs": [],
   "source": [
    "#2869 시간 초과\n",
    "a, b, v = list(map(int, input().split()))\n",
    "cnt = 1\n",
    "p = 0\n",
    "\n",
    "while p<v:\n",
    "    p += a\n",
    "    if p >= v:\n",
    "        break\n",
    "    p -= b\n",
    "    cnt += 1\n",
    "print(cnt)"
   ]
  },
  {
   "cell_type": "code",
   "execution_count": null,
   "metadata": {},
   "outputs": [],
   "source": [
    "#2629 https://www.acmicpc.net/problem/2869\n",
    "a, b, v = list(map(int, input().split()))\n",
    "k = (v-b)/(a-b)\n",
    "print(int(k) if k == int(k) else int(k) + 1)"
   ]
  },
  {
   "cell_type": "code",
   "execution_count": null,
   "metadata": {},
   "outputs": [],
   "source": [
    "#10250 from https://ooyoung.tistory.com/88\n",
    "#규칙을 찾는 방식\n",
    "t = int(input())\n",
    "\n",
    "for i in range(t):\n",
    "    h, w, n = map(int, input().split())\n",
    "    num = n//h + 1\n",
    "    floor = n % h\n",
    "    if n % h == 0:  # h의 배수이면,\n",
    "        num = n//h\n",
    "        floor = h\n",
    "    print(f'{floor*100+num}')"
   ]
  },
  {
   "cell_type": "code",
   "execution_count": null,
   "metadata": {},
   "outputs": [],
   "source": [
    "#2775 from https://ooyoung.tistory.com/89\n",
    "#정해진 리스트 틀 안에서 덧셈\n",
    "t = int(input())\n",
    "\n",
    "for _ in range(t):  \n",
    "    floor = int(input())  # 층\n",
    "    num = int(input())  # 호\n",
    "    f0 = [x for x in range(1, num+1)]  # 0층 리스트\n",
    "    for k in range(floor):  # 층 수 만큼 반복\n",
    "        for i in range(1, num):  # 1 ~ n-1까지 (인덱스로 사용)\n",
    "            f0[i] += f0[i-1]  # 층별 각 호실의 사람 수를 변경\n",
    "    print(f0[-1])  # 가장 마지막 수 출력"
   ]
  },
  {
   "cell_type": "code",
   "execution_count": 26,
   "metadata": {},
   "outputs": [
    {
     "name": "stdout",
     "output_type": "stream",
     "text": [
      "4\n",
      "-1\n"
     ]
    }
   ],
   "source": [
    "#2839\n",
    "a = int(input())\n",
    "p = a//5\n",
    "\n",
    "for i in range(p,-2, -1):\n",
    "    if i != -1:\n",
    "        b = a - 5*i\n",
    "        if b%3 == 0:\n",
    "            c = b//3\n",
    "            print(i + c)\n",
    "            break\n",
    "    else:\n",
    "        print(-1)\n",
    "        break\n"
   ]
  }
 ],
 "metadata": {
  "kernelspec": {
   "display_name": "Python 3",
   "language": "python",
   "name": "python3"
  },
  "language_info": {
   "codemirror_mode": {
    "name": "ipython",
    "version": 3
   },
   "file_extension": ".py",
   "mimetype": "text/x-python",
   "name": "python",
   "nbconvert_exporter": "python",
   "pygments_lexer": "ipython3",
   "version": "3.7.1"
  }
 },
 "nbformat": 4,
 "nbformat_minor": 2
}
