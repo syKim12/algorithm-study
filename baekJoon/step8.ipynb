{
 "cells": [
  {
   "cell_type": "code",
   "execution_count": null,
   "metadata": {},
   "outputs": [],
   "source": [
    "#1712\n",
    "a, b, c = list(map(int, input().split()))\n",
    "if c>b: \n",
    "    x = a/(c-b) #a + b*x < c*x, a/(c-b) < x\n",
    "    print(int(x)+1)\n",
    "else:#c가 b보다 작거나 같은 경우 손익분기점이 안 나옴\n",
    "    print(-1)"
   ]
  },
  {
   "cell_type": "code",
   "execution_count": null,
   "metadata": {},
   "outputs": [],
   "source": [
    "#2292\n",
    "a = int(input())\n",
    "\n",
    "num_bee = 1\n",
    "cnt = 1\n",
    "while a > num_bee:\n",
    "    num_bee += 6 * cnt\n",
    "    cnt += 1\n",
    "print(cnt)\n"
   ]
  },
  {
   "cell_type": "code",
   "execution_count": null,
   "metadata": {},
   "outputs": [],
   "source": [
    "#1193\n",
    "X=int(input())\n",
    "\n",
    "line=1\n",
    "while X>line:\n",
    "    X-=line\n",
    "    line+=1\n",
    "    \n",
    "if line%2==0:\n",
    "    a=X\n",
    "    b=line-X+1\n",
    "else:\n",
    "    a=line-X+1\n",
    "    b=X\n",
    "    \n",
    "print(a, '/', b, sep='')"
   ]
  },
  {
   "cell_type": "code",
   "execution_count": null,
   "metadata": {},
   "outputs": [],
   "source": [
    "#2869 시간 초과\n",
    "a, b, v = list(map(int, input().split()))\n",
    "cnt = 1\n",
    "p = 0\n",
    "\n",
    "while p<v:\n",
    "    p += a\n",
    "    if p >= v:\n",
    "        break\n",
    "    p -= b\n",
    "    cnt += 1\n",
    "print(cnt)"
   ]
  },
  {
   "cell_type": "code",
   "execution_count": null,
   "metadata": {},
   "outputs": [],
   "source": [
    "#2869 https://www.acmicpc.net/problem/2869\n",
    "a, b, v = list(map(int, input().split()))\n",
    "k = (v-b)/(a-b)\n",
    "print(int(k) if k == int(k) else int(k) + 1)"
   ]
  },
  {
   "cell_type": "code",
   "execution_count": null,
   "metadata": {},
   "outputs": [],
   "source": [
    "#10250 from https://ooyoung.tistory.com/88\n",
    "#규칙을 찾는 방식\n",
    "t = int(input())\n",
    "\n",
    "for i in range(t):\n",
    "    h, w, n = map(int, input().split())\n",
    "    num = n//h + 1\n",
    "    floor = n % h\n",
    "    if n % h == 0:  # h의 배수이면,\n",
    "        num = n//h\n",
    "        floor = h\n",
    "    print(f'{floor*100+num}')"
   ]
  },
  {
   "cell_type": "code",
   "execution_count": null,
   "metadata": {},
   "outputs": [],
   "source": [
    "#2775 from https://ooyoung.tistory.com/89\n",
    "#정해진 리스트 틀 안에서 덧셈\n",
    "t = int(input())\n",
    "\n",
    "for _ in range(t):  \n",
    "    floor = int(input())  # 층\n",
    "    num = int(input())  # 호\n",
    "    f0 = [x for x in range(1, num+1)]  # 0층 리스트\n",
    "    for k in range(floor):  # 층 수 만큼 반복\n",
    "        for i in range(1, num):  # 1 ~ n-1까지 (인덱스로 사용)\n",
    "            f0[i] += f0[i-1]  # 층별 각 호실의 사람 수를 변경\n",
    "    print(f0[-1])  # 가장 마지막 수 출력"
   ]
  },
  {
   "cell_type": "code",
   "execution_count": null,
   "metadata": {},
   "outputs": [],
   "source": [
    "#2839\n",
    "a = int(input())\n",
    "p = a//5\n",
    "\n",
    "for i in range(p,-2, -1):\n",
    "    if i != -1:\n",
    "        b = a - 5*i\n",
    "        if b%3 == 0:\n",
    "            c = b//3\n",
    "            print(i + c)\n",
    "            break\n",
    "    else:\n",
    "        print(-1)\n",
    "        break\n"
   ]
  },
  {
   "cell_type": "code",
   "execution_count": null,
   "metadata": {},
   "outputs": [],
   "source": [
    "#10757\n",
    "a, b = map(int, input().split())\n",
    "print(a + b)"
   ]
  },
  {
   "cell_type": "code",
   "execution_count": null,
   "metadata": {},
   "outputs": [],
   "source": [
    "#1978\n",
    "a = int(input())\n",
    "nums = list(map(int, input().split()))\n",
    "cnt = 0\n",
    "for i in nums:\n",
    "    error = 0\n",
    "    if i > 1:\n",
    "        for k in range(2, i):\n",
    "            if i % k == 0:\n",
    "                error += 1\n",
    "        if error == 0:\n",
    "            cnt += 1\n",
    "\n",
    "print(cnt)"
   ]
  },
  {
   "cell_type": "markdown",
   "metadata": {},
   "source": [
    "### When writing codes, always be careful of index. (i.e. if I write range (2, 1), it doesn't make sense.) "
   ]
  },
  {
   "cell_type": "code",
   "execution_count": null,
   "metadata": {},
   "outputs": [],
   "source": [
    "#2581\n",
    "a = int(input())\n",
    "b = int(input())\n",
    "sosu = list()\n",
    "\n",
    "for num in range(a, b+1):\n",
    "    error = 0\n",
    "    if num > 1:\n",
    "        for k in range(2, num):\n",
    "            if num % k == 0:\n",
    "                error += 1\n",
    "                break\n",
    "        if error == 0:\n",
    "            sosu.append(num)\n",
    "\n",
    "if len(sosu)==0:\n",
    "    print(-1)\n",
    "else:\n",
    "    print(sum(sosu))\n",
    "    print(min(sosu))\n"
   ]
  },
  {
   "cell_type": "markdown",
   "metadata": {},
   "source": [
    "### If an algorithm takes too long time, then use 'break' to make it faster "
   ]
  },
  {
   "cell_type": "code",
   "execution_count": null,
   "metadata": {},
   "outputs": [],
   "source": [
    "#1929 시간 초과\n",
    "a, b = map(int, input().split())\n",
    "\n",
    "for num in range(a, b+1):\n",
    "    error = 0\n",
    "    if num > 1:\n",
    "        for k in range(2, num):\n",
    "            if num % k == 0:\n",
    "                error += 1\n",
    "                break\n",
    "        if error == 0:\n",
    "            print(num)\n",
    "                "
   ]
  },
  {
   "cell_type": "code",
   "execution_count": null,
   "metadata": {},
   "outputs": [],
   "source": [
    "#11653\n",
    "#It took 1008ms\n",
    "a = int(input())\n",
    "numlist = range(2, a+1)\n",
    "\n",
    "while a >= 1:\n",
    "    if a == 1:\n",
    "        break   \n",
    "    for num in numlist:\n",
    "        if a % num == 0:\n",
    "            a = a / num\n",
    "            print(num)\n",
    "            break\n",
    "    "
   ]
  },
  {
   "cell_type": "code",
   "execution_count": null,
   "metadata": {},
   "outputs": [],
   "source": [
    "#11653 another version from https://leedakyeong.tistory.com/entry/%EB%B0%B1%EC%A4%80-11653%EB%B2%88-%EC%86%8C%EC%9D%B8%EC%88%98%EB%B6%84%ED%95%B4-in-python-%ED%8C%8C%EC%9D%B4%EC%8D%AC\n",
    "#It took 1784ms\n",
    "v = int(input())\n",
    "i=2\n",
    "\n",
    "while v != 1:\n",
    "    if v%i == 0:\n",
    "        v = v/i\n",
    "        print(i)\n",
    "    else:\n",
    "        i += 1"
   ]
  },
  {
   "cell_type": "code",
   "execution_count": null,
   "metadata": {},
   "outputs": [],
   "source": [
    "#1929 from https://ooyoung.tistory.com/94\n",
    "a, b = map(int, input().split())\n",
    "nums = {x for x in range(a, b+1) if x == 2 or x % 2 == 1}\n",
    "\n",
    "for odd_num in range(3, int(b ** 0.5) + 1, 2):\n",
    "    nums -= {i for i in range(2*odd_num, b+1, odd_num)} #홀수의 배수로 이루어진 집합을 뺀다.\n",
    "    \n",
    "for k in sorted(nums):\n",
    "    if k > 1:\n",
    "        print(k)"
   ]
  },
  {
   "cell_type": "code",
   "execution_count": 1,
   "metadata": {},
   "outputs": [
    {
     "name": "stdout",
     "output_type": "stream",
     "text": [
      "1\n",
      "1\n",
      "10\n",
      "4\n",
      "13\n",
      "3\n",
      "100\n",
      "21\n",
      "1000\n",
      "135\n",
      "10000\n",
      "1033\n",
      "100000\n",
      "8392\n",
      "0\n"
     ]
    }
   ],
   "source": [
    "#4948\n",
    "while True:\n",
    "    n = int(input())\n",
    "    nums = {x for x in range(n+1, 2*n +1) if x == 2 or x % 2 ==1}\n",
    "    \n",
    "    if n == 0:\n",
    "        break\n",
    "    else:\n",
    "        for odd_num in range(3, int((2*n)**0.5)+1, 2):\n",
    "            nums -= {i for i in range(2*odd_num, 2*n+1, odd_num)}\n",
    "        print(len(nums))"
   ]
  },
  {
   "cell_type": "code",
   "execution_count": 26,
   "metadata": {},
   "outputs": [
    {
     "name": "stdout",
     "output_type": "stream",
     "text": [
      "3\n",
      "8\n",
      "3 5\n",
      "10\n",
      "5 5\n",
      "16\n",
      "5 11\n"
     ]
    }
   ],
   "source": [
    "#9020 ver. \n",
    "a = int(input())\n",
    "for i in range(a):\n",
    "    n = int(input())\n",
    "    nums = {x for x in range(2, n+1) if x == 2 or x % 2 == 1}\n",
    "    for odd_num in range(3, int(n**0.5)+1, 2):\n",
    "        nums -= {k for k in range(2*odd_num, n+1, odd_num)}\n",
    "    nums = list(nums) #covert set to list\n",
    "    for p in range(int(n/2), 1, -1):\n",
    "        q = n - p\n",
    "        if q in nums and p in nums:\n",
    "            print(p,q)\n",
    "            break"
   ]
  },
  {
   "cell_type": "code",
   "execution_count": 20,
   "metadata": {},
   "outputs": [
    {
     "data": {
      "text/plain": [
       "[4, 3, 2, 1]"
      ]
     },
     "execution_count": 20,
     "metadata": {},
     "output_type": "execute_result"
    }
   ],
   "source": [
    "l = [1,2,3,4]\n",
    "l[l.index(8/2)::-1]"
   ]
  },
  {
   "cell_type": "code",
   "execution_count": null,
   "metadata": {},
   "outputs": [],
   "source": [
    "#1085\n",
    "x, y, w, h = map(int, input().split())\n",
    "n1 = y\n",
    "n2 = w - x\n",
    "n3 = h - y\n",
    "n4 = x\n",
    "print(min(n1, n2, n3, n4))"
   ]
  },
  {
   "cell_type": "code",
   "execution_count": null,
   "metadata": {},
   "outputs": [],
   "source": [
    "#1002 final code\n",
    "a = int(input())\n",
    "for i in range(a):\n",
    "    x1, y1, r1, x2, y2, r2 = map(int, input().split())\n",
    "    dist = ((x2 - x1)**2 + (y2 - y1)**2)**0.5\n",
    "    if dist == 0 and r1 == r2:\n",
    "        print(-1)\n",
    "    elif dist > r1 + r2 or dist < abs(r2 - r1):\n",
    "        print(0)\n",
    "    elif dist == abs(r2 - r1) or dist == r1 + r2:\n",
    "        print(1)\n",
    "    else:\n",
    "        print(2)"
   ]
  },
  {
   "cell_type": "code",
   "execution_count": null,
   "metadata": {},
   "outputs": [],
   "source": [
    "#1002 trial\n",
    "a = int(input())\n",
    "for i in range(a):\n",
    "    x1, y1, r1, x2, y2, r2 = map(int, input().split())\n",
    "    cnt = 0\n",
    "    if x1 == x2 and y1 == y2 and r1 == r2:\n",
    "        print(-1)\n",
    "    dist = ((x2 - x1)**2 + (y2 - y1)**2)**0.5\n",
    "    if dist > r1 + r2 or dist < abs(r2 - r1):\n",
    "        print(0)\n",
    "    elif dist <= abs(r2 - r1):\n",
    "        if r1 > r2:\n",
    "            for x in range(1, r2+1):\n",
    "                y = (r2**2 - x**2)**0.5\n",
    "                if str(y*10)[-1]=='0':\n",
    "                    print(x, y)\n",
    "                    cnt += 1\n",
    "        else:\n",
    "            for x in range(1, r1+1):\n",
    "                y = (r1**2 - x**2)**0.5\n",
    "                if str(y*10)[-1]=='0':\n",
    "                    print(x, y)\n",
    "                    cnt += 1\n",
    "    else:\n",
    "        if x1 < x2:\n",
    "            for x in range(x1, x2):\n",
    "                y = (r1**2 - x**2)**0.5\n",
    "                if str(y*10)[-1]=='0':\n",
    "                    if (x-x1)**2 + (y-y1)**2 == r1**2 and (x-x2)**2 + (y-y2)**2 == r2**2:\n",
    "                        print(x, y)\n",
    "                        cnt += 1\n",
    "        else:\n",
    "            for x in range(x2, x1):\n",
    "                y = (r1**2 - x**2)**0.5\n",
    "                if str(y*10)[-1]=='0':\n",
    "                    if x**2 + y**2 == r1**2 and x**2 + y**2 == r2**2:\n",
    "                        print(x, y)\n",
    "                        cnt += 1\n",
    "    print(cnt)\n",
    "                \n",
    "    "
   ]
  }
 ],
 "metadata": {
  "kernelspec": {
   "display_name": "Python 3",
   "language": "python",
   "name": "python3"
  },
  "language_info": {
   "codemirror_mode": {
    "name": "ipython",
    "version": 3
   },
   "file_extension": ".py",
   "mimetype": "text/x-python",
   "name": "python",
   "nbconvert_exporter": "python",
   "pygments_lexer": "ipython3",
   "version": "3.7.1"
  }
 },
 "nbformat": 4,
 "nbformat_minor": 2
}
