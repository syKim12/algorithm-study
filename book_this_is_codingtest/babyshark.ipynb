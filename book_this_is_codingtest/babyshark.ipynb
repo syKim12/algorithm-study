{
 "cells": [
  {
   "cell_type": "code",
   "execution_count": 1,
   "metadata": {},
   "outputs": [
    {
     "name": "stdout",
     "output_type": "stream",
     "text": [
      "4\n",
      "4 3 2 1\n",
      "0 0 0 0\n",
      "0 0 9 0\n",
      "1 2 3 4\n",
      "14\n"
     ]
    }
   ],
   "source": [
    "from collections import deque\n",
    "INF = 1e9\n",
    "\n",
    "n = int(input())\n",
    "\n",
    "array = []\n",
    "for i in range(n):\n",
    "    array.append(list(map(int, input().split())))\n",
    "\n",
    "now_size = 2\n",
    "now_x, now_y = 0, 0\n",
    "\n",
    "for i in range(n):\n",
    "    for j in range(n):\n",
    "        if array[i][j] == 9:\n",
    "            now_x, now_y = i, j\n",
    "            array[now_x][now_y]= 0\n",
    "\n",
    "dx = [-1, 0, 1, 0]\n",
    "dy = [0, 1, 0, -1]\n",
    "\n",
    "#모든 위치까지의 최단거리만 계산하는 bfs 함수\n",
    "def bfs():\n",
    "    dist = [[-1]*n for _ in range(n)]\n",
    "    q = deque([(now_x, now_y)])\n",
    "    dist[now_x][now_y] = 0\n",
    "    while q:\n",
    "        x, y = q.popleft()\n",
    "        for i in range(4):\n",
    "            nx = x + dx[i]\n",
    "            ny = y + dy[i]\n",
    "            if 0 <= nx and nx < n and 0 <= ny and ny < n:\n",
    "                if dist[nx][ny] == -1 and array[nx][ny] <= now_size:\n",
    "                    dist[nx][ny]= dist[x][y] +1\n",
    "                    q.append((nx, ny))\n",
    "    return dist\n",
    "\n",
    "def find(dist):\n",
    "    x, y = 0, 0\n",
    "    min_dist = INF\n",
    "    for i in range(n):\n",
    "        for j in range(n):\n",
    "            if dist[i][j] != -1 and 1 <= array[i][j] and array[i][j] < now_size:\n",
    "                if dist[i][j] < min_dist:\n",
    "                    x, y = i, j\n",
    "                    min_dist = dist[i][j]\n",
    "    if min_dist == INF:\n",
    "        return None\n",
    "    else:\n",
    "        return x, y, min_dist\n",
    "\n",
    "result = 0\n",
    "ate = 0\n",
    "\n",
    "while True:\n",
    "    value = find(bfs())\n",
    "    if value == None:\n",
    "        print(result)\n",
    "        break\n",
    "    else:\n",
    "        now_x, now_y = value[0], value[1]\n",
    "        result += value[2]\n",
    "        \n",
    "        array[now_x][now_y] = 0\n",
    "        ate += 1\n",
    "        if ate >= now_size:\n",
    "            now_size += 1\n",
    "            ate = 0"
   ]
  },
  {
   "cell_type": "code",
   "execution_count": null,
   "metadata": {},
   "outputs": [],
   "source": []
  }
 ],
 "metadata": {
  "kernelspec": {
   "display_name": "Python 3",
   "language": "python",
   "name": "python3"
  },
  "language_info": {
   "codemirror_mode": {
    "name": "ipython",
    "version": 3
   },
   "file_extension": ".py",
   "mimetype": "text/x-python",
   "name": "python",
   "nbconvert_exporter": "python",
   "pygments_lexer": "ipython3",
   "version": "3.7.1"
  }
 },
 "nbformat": 4,
 "nbformat_minor": 2
}
