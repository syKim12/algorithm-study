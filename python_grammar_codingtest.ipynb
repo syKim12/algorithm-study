{
 "cells": [
  {
   "cell_type": "code",
   "execution_count": 13,
   "metadata": {},
   "outputs": [
    {
     "name": "stdout",
     "output_type": "stream",
     "text": [
      "[5, 4, 2, 5]\n"
     ]
    }
   ],
   "source": [
    "a=[5, 2, 4, 2, 5]\n",
    "a.pop(1)\n",
    "print(a)"
   ]
  },
  {
   "cell_type": "code",
   "execution_count": 14,
   "metadata": {},
   "outputs": [
    {
     "name": "stdout",
     "output_type": "stream",
     "text": [
      "2\n"
     ]
    }
   ],
   "source": [
    "a=[5, 2, 4, 2, 5]\n",
    "b=a.pop(1)\n",
    "print(b)"
   ]
  },
  {
   "cell_type": "code",
   "execution_count": 16,
   "metadata": {},
   "outputs": [
    {
     "name": "stdout",
     "output_type": "stream",
     "text": [
      "[2, 4, 2, 5, 5]\n"
     ]
    }
   ],
   "source": [
    "a=[5, 2, 4, 2, 5, 5]\n",
    "a.remove(5)\n",
    "print(a)"
   ]
  },
  {
   "cell_type": "code",
   "execution_count": 3,
   "metadata": {},
   "outputs": [
    {
     "name": "stdout",
     "output_type": "stream",
     "text": [
      "None\n"
     ]
    }
   ],
   "source": [
    "a=[5, 2, 4, 2, 5]\n",
    "b=a.sort()\n",
    "print(b)"
   ]
  },
  {
   "cell_type": "code",
   "execution_count": 4,
   "metadata": {},
   "outputs": [
    {
     "name": "stdout",
     "output_type": "stream",
     "text": [
      "[2, 2, 4, 5, 5]\n"
     ]
    }
   ],
   "source": [
    "a=[5, 2, 4, 2, 5]\n",
    "a.sort()\n",
    "print(a)"
   ]
  },
  {
   "cell_type": "code",
   "execution_count": 5,
   "metadata": {},
   "outputs": [
    {
     "name": "stdout",
     "output_type": "stream",
     "text": [
      "New sorted list A is [[45, 89], [55, 90], [90, 70]]\n",
      "New reverse sorted list A is [[90, 70], [55, 90], [45, 89]]\n"
     ]
    }
   ],
   "source": [
    "#from https://www.delftstack.com/howto/python/sort-list-of-lists-in-python/\n",
    "A = [[55, 90], [45, 89], [90, 70]]\n",
    "A.sort()\n",
    "print(\"New sorted list A is % s\" % (A))\n",
    "A.sort(reverse=True)\n",
    "print(\"New reverse sorted list A is % s\" % (A))"
   ]
  },
  {
   "cell_type": "code",
   "execution_count": null,
   "metadata": {},
   "outputs": [],
   "source": [
    "sort set\n",
    "sorted(set_name)\n",
    "sorted(set_name, reverse=True)"
   ]
  },
  {
   "cell_type": "code",
   "execution_count": 10,
   "metadata": {},
   "outputs": [
    {
     "name": "stdout",
     "output_type": "stream",
     "text": [
      "hi soo "
     ]
    }
   ],
   "source": [
    "print('hi', end=' ')\n",
    "print('soo', end=' ')"
   ]
  },
  {
   "cell_type": "code",
   "execution_count": 13,
   "metadata": {},
   "outputs": [
    {
     "data": {
      "text/plain": [
       "0"
      ]
     },
     "execution_count": 13,
     "metadata": {},
     "output_type": "execute_result"
    }
   ],
   "source": [
    "\"abcdefgh\".find(\"a\")"
   ]
  },
  {
   "cell_type": "code",
   "execution_count": 22,
   "metadata": {},
   "outputs": [
    {
     "name": "stdout",
     "output_type": "stream",
     "text": [
      "[1, 1, 1, 1, 1]\n"
     ]
    }
   ],
   "source": [
    "print([1]*5)"
   ]
  },
  {
   "cell_type": "code",
   "execution_count": 8,
   "metadata": {},
   "outputs": [
    {
     "name": "stdout",
     "output_type": "stream",
     "text": [
      "[[8, 4, [[1, 0], [1, 1], [3, 1], [4, 1], [2, 0], [2, 1], [2, 2], [4, 0]]], [6, 4, [[2, 3], [3, 2], [1, 3], [2, 2], [2, 1], [2, 0]]], [5, 4, [[1, 2], [1, 3], [2, 2], [2, 1], [2, 0]]]]\n"
     ]
    }
   ],
   "source": [
    "A=[[8, 4, [[1, 0], [1, 1], [3, 1], [4, 1], [2, 0], [2, 1], [2, 2], [4, 0]]], [6, 4, [[2, 3], [3, 2], [1, 3], [2, 2], [2, 1], [2, 0]]], [5, 4, [[1, 2], [1, 3], [2, 2], [2, 1], [2, 0]]]]\n",
    "A.sort(reverse=True)\n",
    "print(A)"
   ]
  },
  {
   "cell_type": "code",
   "execution_count": 3,
   "metadata": {},
   "outputs": [
    {
     "name": "stdout",
     "output_type": "stream",
     "text": [
      "5\n",
      "4\n",
      "3\n",
      "2\n",
      "1\n",
      "0\n"
     ]
    }
   ],
   "source": [
    "for k in range(5, -1, -1):\n",
    "    print(k)"
   ]
  },
  {
   "cell_type": "code",
   "execution_count": 12,
   "metadata": {},
   "outputs": [
    {
     "name": "stdout",
     "output_type": "stream",
     "text": [
      "[[5, 10, [[2, 2]]], [5, 10, [[1, 2], [2, 3]]], [5, 10, [[1, 1]]]]\n"
     ]
    }
   ],
   "source": [
    "A=[[5, 10, [[1, 2], [2, 3]]], [5, 10, [[2,2]]], [5, 10, [[1, 1]]]]\n",
    "A.sort(reverse=True)\n",
    "print(A)"
   ]
  },
  {
   "cell_type": "code",
   "execution_count": null,
   "metadata": {},
   "outputs": [],
   "source": []
  }
 ],
 "metadata": {
  "kernelspec": {
   "display_name": "Python 3",
   "language": "python",
   "name": "python3"
  },
  "language_info": {
   "codemirror_mode": {
    "name": "ipython",
    "version": 3
   },
   "file_extension": ".py",
   "mimetype": "text/x-python",
   "name": "python",
   "nbconvert_exporter": "python",
   "pygments_lexer": "ipython3",
   "version": "3.7.1"
  }
 },
 "nbformat": 4,
 "nbformat_minor": 2
}
