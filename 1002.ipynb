{
 "cells": [
  {
   "cell_type": "code",
   "execution_count": 3,
   "metadata": {},
   "outputs": [
    {
     "name": "stdout",
     "output_type": "stream",
     "text": [
      "3\n",
      "0 0 13 40 0 37\n",
      "2\n",
      "0 0 3 0 7 4\n",
      "1\n",
      "1 1 1 1 1 5\n",
      "0\n"
     ]
    }
   ],
   "source": [
    "#final code\n",
    "a = int(input())\n",
    "for i in range(a):\n",
    "    x1, y1, r1, x2, y2, r2 = map(int, input().split())\n",
    "    if x1 == x2 and y1 == y2 and r1 == r2:\n",
    "        print(-1)\n",
    "    dist = ((x2 - x1)**2 + (y2 - y1)**2)**0.5\n",
    "    if dist > r1 + r2 or dist < abs(r2 - r1):\n",
    "        print(0)\n",
    "    elif dist == abs(r2 - r1) or dist == r1 + r2:\n",
    "        print(1)\n",
    "    else:\n",
    "        print(2)\n"
   ]
  },
  {
   "cell_type": "code",
   "execution_count": null,
   "metadata": {},
   "outputs": [],
   "source": [
    "#trial \n",
    "a = int(input())\n",
    "for i in range(a):\n",
    "    x1, y1, r1, x2, y2, r2 = map(int, input().split())\n",
    "    cnt = 0\n",
    "    if r1 > r2:\n",
    "        for num in range(1, r2+1):\n",
    "            q = (r2**2 - num**2)**0.5\n",
    "            if str(q*10)[-1]=='0':\n",
    "                cnt += 1\n",
    "    else:\n",
    "        for num in range(1, r1+1):\n",
    "            q = (r1**2 - num**2)**0.5\n",
    "            if str(q*10)[-1]=='0':\n",
    "                print(num)\n",
    "                print(q)\n",
    "                cnt += 1    \n",
    "    print(cnt) \n",
    "    "
   ]
  },
  {
   "cell_type": "code",
   "execution_count": 7,
   "metadata": {},
   "outputs": [
    {
     "name": "stdout",
     "output_type": "stream",
     "text": [
      "1\n",
      "0 0 13 40 0 37\n",
      "5 12.0\n",
      "1\n"
     ]
    }
   ],
   "source": [
    "#trial\n",
    "a = int(input())\n",
    "for i in range(a):\n",
    "    x1, y1, r1, x2, y2, r2 = map(int, input().split())\n",
    "    cnt = 0\n",
    "    if x1 == x2 and y1 == y2 and r1 == r2:\n",
    "        print(-1)\n",
    "    dist = ((x2 - x1)**2 + (y2 - y1)**2)**0.5\n",
    "    if dist > r1 + r2 or dist < abs(r2 - r1):\n",
    "        print(0)\n",
    "    elif dist <= abs(r2 - r1):\n",
    "        if r1 > r2:\n",
    "            for x in range(1, r2+1):\n",
    "                y = (r2**2 - x**2)**0.5\n",
    "                if str(y*10)[-1]=='0':\n",
    "                    print(x, y)\n",
    "                    cnt += 1\n",
    "        else:\n",
    "            for x in range(1, r1+1):\n",
    "                y = (r1**2 - x**2)**0.5\n",
    "                if str(y*10)[-1]=='0':\n",
    "                    print(x, y)\n",
    "                    cnt += 1\n",
    "    else:\n",
    "        if x1 < x2:\n",
    "            for x in range(x1, x2):\n",
    "                y = (r1**2 - x**2)**0.5\n",
    "                if str(y*10)[-1]=='0':\n",
    "                    if (x-x1)**2 + (y-y1)**2 == r1**2 and (x-x2)**2 + (y-y2)**2 == r2**2:\n",
    "                        print(x, y)\n",
    "                        cnt += 1\n",
    "        else:\n",
    "            for x in range(x2, x1):\n",
    "                y = (r1**2 - x**2)**0.5\n",
    "                if str(y*10)[-1]=='0':\n",
    "                    if x**2 + y**2 == r1**2 and x**2 + y**2 == r2**2:\n",
    "                        print(x, y)\n",
    "                        cnt += 1\n",
    "    print(cnt)\n",
    "                \n",
    "    "
   ]
  },
  {
   "cell_type": "code",
   "execution_count": null,
   "metadata": {},
   "outputs": [],
   "source": [
    "#trial\n",
    "a = int(input())\n",
    "for i in range(a):\n",
    "    x1, y1, r1, x2, y2, r2 = map(int, input().split())\n",
    "    if x1 == x2 and y1 == y2 and r1 == r2:\n",
    "        print(-1)\n",
    "    dist = ((x2 - x1)**2 + (y2 - y1)**2)**0.5\n",
    "    if dist > r1 + r2 or dist < abs(r2 - r1):\n",
    "        print(0)\n",
    "    elif dist == abs(r2 - r1) or dist == r1 + r2:\n",
    "        print(1)\n",
    "    else:\n",
    "        print(2)\n"
   ]
  }
 ],
 "metadata": {
  "kernelspec": {
   "display_name": "Python 3",
   "language": "python",
   "name": "python3"
  },
  "language_info": {
   "codemirror_mode": {
    "name": "ipython",
    "version": 3
   },
   "file_extension": ".py",
   "mimetype": "text/x-python",
   "name": "python",
   "nbconvert_exporter": "python",
   "pygments_lexer": "ipython3",
   "version": "3.7.1"
  }
 },
 "nbformat": 4,
 "nbformat_minor": 2
}
